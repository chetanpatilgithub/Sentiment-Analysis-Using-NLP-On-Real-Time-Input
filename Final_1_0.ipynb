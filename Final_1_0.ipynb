{
  "cells": [
    {
      "cell_type": "code",
      "execution_count": null,
      "id": "yTmlW5tN3g-A",
      "metadata": {
        "colab": {
          "base_uri": "https://localhost:8080/"
        },
        "id": "yTmlW5tN3g-A",
        "outputId": "a0286757-0089-4eaf-9aaa-4b86cc4b05d7"
      },
      "outputs": [
        {
          "name": "stdout",
          "output_type": "stream",
          "text": [
            "Looking in indexes: https://pypi.org/simple, https://us-python.pkg.dev/colab-wheels/public/simple/\n",
            "Collecting requests-html\n",
            "  Downloading requests_html-0.10.0-py3-none-any.whl (13 kB)\n",
            "Collecting parse\n",
            "  Downloading parse-1.19.0.tar.gz (30 kB)\n",
            "  Preparing metadata (setup.py) ... \u001b[?25l\u001b[?25hdone\n",
            "Collecting bs4\n",
            "  Downloading bs4-0.0.1.tar.gz (1.1 kB)\n",
            "  Preparing metadata (setup.py) ... \u001b[?25l\u001b[?25hdone\n",
            "Requirement already satisfied: requests in /usr/local/lib/python3.9/dist-packages (from requests-html) (2.27.1)\n",
            "Collecting pyquery\n",
            "  Downloading pyquery-2.0.0-py3-none-any.whl (22 kB)\n",
            "Collecting fake-useragent\n",
            "  Downloading fake_useragent-1.1.3-py3-none-any.whl (50 kB)\n",
            "\u001b[2K     \u001b[90m━━━━━━━━━━━━━━━━━━━━━━━━━━━━━━━━━━━━━━━━\u001b[0m \u001b[32m50.5/50.5 kB\u001b[0m \u001b[31m2.5 MB/s\u001b[0m eta \u001b[36m0:00:00\u001b[0m\n",
            "\u001b[?25hCollecting w3lib\n",
            "  Downloading w3lib-2.1.1-py3-none-any.whl (21 kB)\n",
            "Collecting pyppeteer>=0.0.14\n",
            "  Downloading pyppeteer-1.0.2-py3-none-any.whl (83 kB)\n",
            "\u001b[2K     \u001b[90m━━━━━━━━━━━━━━━━━━━━━━━━━━━━━━━━━━━━━━━━\u001b[0m \u001b[32m83.4/83.4 kB\u001b[0m \u001b[31m4.1 MB/s\u001b[0m eta \u001b[36m0:00:00\u001b[0m\n",
            "\u001b[?25hRequirement already satisfied: importlib-metadata>=1.4 in /usr/local/lib/python3.9/dist-packages (from pyppeteer>=0.0.14->requests-html) (6.4.1)\n",
            "Collecting websockets<11.0,>=10.0\n",
            "  Downloading websockets-10.4-cp39-cp39-manylinux_2_5_x86_64.manylinux1_x86_64.manylinux_2_17_x86_64.manylinux2014_x86_64.whl (106 kB)\n",
            "\u001b[2K     \u001b[90m━━━━━━━━━━━━━━━━━━━━━━━━━━━━━━━━━━━━━━━\u001b[0m \u001b[32m106.5/106.5 kB\u001b[0m \u001b[31m5.6 MB/s\u001b[0m eta \u001b[36m0:00:00\u001b[0m\n",
            "\u001b[?25hCollecting pyee<9.0.0,>=8.1.0\n",
            "  Downloading pyee-8.2.2-py2.py3-none-any.whl (12 kB)\n",
            "Requirement already satisfied: certifi>=2021 in /usr/local/lib/python3.9/dist-packages (from pyppeteer>=0.0.14->requests-html) (2022.12.7)\n",
            "Requirement already satisfied: appdirs<2.0.0,>=1.4.3 in /usr/local/lib/python3.9/dist-packages (from pyppeteer>=0.0.14->requests-html) (1.4.4)\n",
            "Requirement already satisfied: urllib3<2.0.0,>=1.25.8 in /usr/local/lib/python3.9/dist-packages (from pyppeteer>=0.0.14->requests-html) (1.26.15)\n",
            "Requirement already satisfied: tqdm<5.0.0,>=4.42.1 in /usr/local/lib/python3.9/dist-packages (from pyppeteer>=0.0.14->requests-html) (4.65.0)\n",
            "Requirement already satisfied: beautifulsoup4 in /usr/local/lib/python3.9/dist-packages (from bs4->requests-html) (4.11.2)\n",
            "Requirement already satisfied: importlib-resources>=5.0 in /usr/local/lib/python3.9/dist-packages (from fake-useragent->requests-html) (5.12.0)\n",
            "Requirement already satisfied: lxml>=2.1 in /usr/local/lib/python3.9/dist-packages (from pyquery->requests-html) (4.9.2)\n",
            "Collecting cssselect>=1.2.0\n",
            "  Downloading cssselect-1.2.0-py2.py3-none-any.whl (18 kB)\n",
            "Requirement already satisfied: idna<4,>=2.5 in /usr/local/lib/python3.9/dist-packages (from requests->requests-html) (3.4)\n",
            "Requirement already satisfied: charset-normalizer~=2.0.0 in /usr/local/lib/python3.9/dist-packages (from requests->requests-html) (2.0.12)\n",
            "Requirement already satisfied: zipp>=0.5 in /usr/local/lib/python3.9/dist-packages (from importlib-metadata>=1.4->pyppeteer>=0.0.14->requests-html) (3.15.0)\n",
            "Requirement already satisfied: soupsieve>1.2 in /usr/local/lib/python3.9/dist-packages (from beautifulsoup4->bs4->requests-html) (2.4.1)\n",
            "Building wheels for collected packages: bs4, parse\n",
            "  Building wheel for bs4 (setup.py) ... \u001b[?25l\u001b[?25hdone\n",
            "  Created wheel for bs4: filename=bs4-0.0.1-py3-none-any.whl size=1270 sha256=1fbdeb48cbf2199f87adcc775c755eafb77abbb761f1488c47bd306a390b0dfb\n",
            "  Stored in directory: /root/.cache/pip/wheels/73/2b/cb/099980278a0c9a3e57ff1a89875ec07bfa0b6fcbebb9a8cad3\n",
            "  Building wheel for parse (setup.py) ... \u001b[?25l\u001b[?25hdone\n",
            "  Created wheel for parse: filename=parse-1.19.0-py3-none-any.whl size=24589 sha256=be1b923aebfa014d54ab37dbc196f596660e8ebba136ea473280d83324af9b76\n",
            "  Stored in directory: /root/.cache/pip/wheels/d6/9c/58/ee3ba36897e890f3ad81e9b730791a153fce20caa4a8a474df\n",
            "Successfully built bs4 parse\n",
            "Installing collected packages: pyee, parse, websockets, w3lib, cssselect, pyquery, pyppeteer, fake-useragent, bs4, requests-html\n",
            "Successfully installed bs4-0.0.1 cssselect-1.2.0 fake-useragent-1.1.3 parse-1.19.0 pyee-8.2.2 pyppeteer-1.0.2 pyquery-2.0.0 requests-html-0.10.0 w3lib-2.1.1 websockets-10.4\n"
          ]
        }
      ],
      "source": [
        "!pip3 install requests-html"
      ]
    },
    {
      "cell_type": "code",
      "execution_count": null,
      "id": "f30906ae",
      "metadata": {
        "id": "f30906ae",
        "scrolled": true
      },
      "outputs": [],
      "source": [
        "import requests\n",
        "import urllib\n",
        "import pandas as pd\n",
        "import re\n",
        "from requests_html import HTML\n",
        "from requests_html import HTMLSession\n",
        "import requests\n",
        "import lxml\n",
        "import bs4\n",
        "from textblob import TextBlob"
      ]
    },
    {
      "cell_type": "code",
      "execution_count": null,
      "id": "80c64d0c",
      "metadata": {
        "id": "80c64d0c"
      },
      "outputs": [],
      "source": [
        "def get_source(url):\n",
        "    \"\"\"Return the source code for the provided URL. \n",
        "\n",
        "    Args: \n",
        "        url (string): URL of the page to scrape.\n",
        "\n",
        "    Returns:\n",
        "        response (object): HTTP response object from requests_html. \n",
        "    \"\"\"\n",
        "\n",
        "    try:\n",
        "        session = HTMLSession()\n",
        "        response = session.get(url)\n",
        "        return response\n",
        "\n",
        "    except requests.exceptions.RequestException as e:\n",
        "        print(e)"
      ]
    },
    {
      "cell_type": "code",
      "execution_count": null,
      "id": "35d2e094",
      "metadata": {
        "id": "35d2e094"
      },
      "outputs": [],
      "source": [
        "def scrape_google(query):\n",
        "\n",
        "    query = urllib.parse.quote_plus(query)\n",
        "    response = get_source(\"https://www.google.co.uk/search?q=\" + query)\n",
        "\n",
        "    links = list(response.html.absolute_links)\n",
        "    google_domains = ('https://www.google.', \n",
        "                      'https://google.', \n",
        "                      'https://webcache.googleusercontent.', \n",
        "                      'http://webcache.googleusercontent.', \n",
        "                      'https://policies.google.',\n",
        "                      'https://support.google.',\n",
        "                      'https://maps.google.')\n",
        "    for url in links[:]:\n",
        "        if url.startswith(google_domains):\n",
        "            links.remove(url)\n",
        "    return links"
      ]
    },
    {
      "cell_type": "code",
      "execution_count": null,
      "id": "efc4213e",
      "metadata": {
        "id": "efc4213e"
      },
      "outputs": [],
      "source": [
        "def emoccion(soup):\n",
        "  tags = soup.find_all()\n",
        "  word_count = {'html' : []}\n",
        "  for tag in tags:\n",
        "    tag_name = tag.name\n",
        "    text = tag.get_text().strip()\n",
        "    count = len(text.split())\n",
        "    if tag_name in word_count:\n",
        "      word_count.update({tag_name : count})\n",
        "    else:\n",
        "      word_count.update({tag_name : count})\n",
        "  del word_count[\"html\"]\n",
        "  sorted_dict = sorted(word_count.items(), key=lambda x: x[1], reverse=True)\n",
        "  potat = []\n",
        "  for i in range(3):\n",
        "    key, value = sorted_dict[i]\n",
        "    potat.append(key)\n",
        "\n",
        "  return potat"
      ]
    },
    {
      "cell_type": "code",
      "execution_count": 1,
      "id": "8709203c",
      "metadata": {
        "colab": {
          "base_uri": "https://localhost:8080/"
        },
        "id": "8709203c",
        "outputId": "f3ea363d-12d7-4ceb-968c-9373bf7279fd",
        "scrolled": false
      },
      "outputs": [
        {
          "ename": "NameError",
          "evalue": "name 'scrape_google' is not defined",
          "output_type": "error",
          "traceback": [
            "\u001b[1;31m---------------------------------------------------------------------------\u001b[0m",
            "\u001b[1;31mNameError\u001b[0m                                 Traceback (most recent call last)",
            "Cell \u001b[1;32mIn[1], line 1\u001b[0m\n\u001b[1;32m----> 1\u001b[0m pot \u001b[39m=\u001b[39m scrape_google(\u001b[39minput\u001b[39m(\u001b[39m'\u001b[39m\u001b[39mEnter a query:\u001b[39m\u001b[39m'\u001b[39m))\n\u001b[0;32m      2\u001b[0m news_url \u001b[39m=\u001b[39m []\n\u001b[0;32m      3\u001b[0m \u001b[39mfor\u001b[39;00m url \u001b[39min\u001b[39;00m pot:\n",
            "\u001b[1;31mNameError\u001b[0m: name 'scrape_google' is not defined"
          ]
        }
      ],
      "source": [
        "pot = scrape_google(input('Enter a query:'))\n",
        "news_url = []\n",
        "for url in pot:\n",
        "    if re.search(r\"\", url):\n",
        "        news_url.append(url)\n",
        "news_url"
      ]
    },
    {
      "cell_type": "code",
      "execution_count": null,
      "id": "da334d5b",
      "metadata": {
        "colab": {
          "base_uri": "https://localhost:8080/"
        },
        "id": "da334d5b",
        "outputId": "b8a7c602-6e4a-4003-ce10-73ef2fca0d26"
      },
      "outputs": [
        {
          "name": "stdout",
          "output_type": "stream",
          "text": [
            "Polarity Score: 0.0\n",
            "Subjectivity Score: 0.0\n",
            "Polarity Score: 0.0\n",
            "Subjectivity Score: 0.0\n",
            "Polarity Score: 0.1120341773072866\n",
            "Subjectivity Score: 0.3349955436720144\n",
            "Polarity Score: 0.0\n",
            "Subjectivity Score: 0.0\n",
            "Polarity Score: 0.0\n",
            "Subjectivity Score: 0.0\n",
            "Polarity Score: 0.0\n",
            "Subjectivity Score: 0.0\n",
            "Polarity Score: 0.0\n",
            "Subjectivity Score: 0.0\n",
            "Polarity Score: 0.2111111111111111\n",
            "Subjectivity Score: 0.3228395061728395\n",
            "Polarity Score: 0.0\n",
            "Subjectivity Score: 0.0\n",
            "Polarity Score: 0.0\n",
            "Subjectivity Score: 0.0\n",
            "Polarity Score: 0.07866161616161615\n",
            "Subjectivity Score: 0.2824074074074074\n",
            "Polarity Score: 0.0\n",
            "Subjectivity Score: 0.0\n",
            "Polarity Score: 0.0\n",
            "Subjectivity Score: 0.0\n",
            "Polarity Score: 0.0\n",
            "Subjectivity Score: 0.0\n",
            "Polarity Score: 0.0\n",
            "Subjectivity Score: 0.0\n",
            "Polarity Score: 0.0\n",
            "Subjectivity Score: 0.0\n",
            "Polarity Score: 0.0\n",
            "Subjectivity Score: 0.0\n",
            "Polarity Score: 0.06505580587213239\n",
            "Subjectivity Score: 0.375625791442118\n",
            "Polarity Score: 0.0\n",
            "Subjectivity Score: 0.0\n",
            "Polarity Score: 0.0\n",
            "Subjectivity Score: 0.0\n",
            "Polarity Score: 0.0\n",
            "Subjectivity Score: 0.0\n",
            "Polarity Score: 0.0\n",
            "Subjectivity Score: 0.0\n",
            "Polarity Score: 0.0\n",
            "Subjectivity Score: 0.0\n",
            "Polarity Score: 0.0\n",
            "Subjectivity Score: 0.0\n"
          ]
        }
      ],
      "source": [
        "for url in news_url:\n",
        "  res = requests.get(url)\n",
        "  soup = bs4.BeautifulSoup(res.content, 'html.parser')\n",
        "  tomat = emoccion(soup)\n",
        "  \n",
        "  #soup = bs4.BeautifulSoup(res.text, 'lxml')\n",
        "  articles = [article.text for article in soup.select(f\".{tomat[0]}, .{tomat[1]}, .{tomat[2]}\")]\n",
        "  text = \" \".join(articles)\n",
        "  blob = TextBlob(text)\n",
        "  polarity = blob.sentiment.polarity\n",
        "  subjectivity = blob.sentiment.subjectivity\n",
        "  print(f\"Polarity Score: {polarity}\")\n",
        "  print(f\"Subjectivity Score: {subjectivity}\")"
      ]
    }
  ],
  "metadata": {
    "colab": {
      "provenance": []
    },
    "kernelspec": {
      "display_name": "Python 3.11.2 64-bit",
      "language": "python",
      "name": "python3"
    },
    "language_info": {
      "codemirror_mode": {
        "name": "ipython",
        "version": 3
      },
      "file_extension": ".py",
      "mimetype": "text/x-python",
      "name": "python",
      "nbconvert_exporter": "python",
      "pygments_lexer": "ipython3",
      "version": "3.11.2"
    },
    "vscode": {
      "interpreter": {
        "hash": "a9ffe38d8538a2d5002b24d7d961dd368d002a60f173c52f72f0bcd638bf064a"
      }
    }
  },
  "nbformat": 4,
  "nbformat_minor": 5
}
